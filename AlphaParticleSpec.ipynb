{
  "nbformat": 4,
  "nbformat_minor": 0,
  "metadata": {
    "colab": {
      "name": "AlphaParticleSpec.ipynb",
      "provenance": [],
      "collapsed_sections": [],
      "mount_file_id": "1BrHa-hObaTEnTbDQllt3lUqF3qXLEJGz",
      "authorship_tag": "ABX9TyMWiKBkcouj4OAQQQV4tlg8"
    },
    "kernelspec": {
      "name": "python3",
      "display_name": "Python 3"
    },
    "language_info": {
      "name": "python"
    }
  },
  "cells": [
    {
      "cell_type": "markdown",
      "metadata": {
        "id": "lO45SaeqcXvw"
      },
      "source": [
        "This notebook creates an alpha particle spectrum from beam data and determines the mean energy and LETd."
      ]
    },
    {
      "cell_type": "code",
      "metadata": {
        "id": "CoSdx3BQE-nY"
      },
      "source": [
        "#Import libraries\n",
        "from numpy import histogram\n",
        "import matplotlib.pyplot as plt\n",
        "import csv"
      ],
      "execution_count": 5,
      "outputs": []
    },
    {
      "cell_type": "code",
      "metadata": {
        "id": "OWW4tul_jZgw"
      },
      "source": [
        "def energy_spec(data1,data2,data3,data4,name):\n",
        "  ''' This reads the data from a Phase Space scorer and produces a histogram of \n",
        "  the initial kinetic energy of the secondary specified by \"name\". '''\n",
        "\n",
        "  energies = []\n",
        "  prev_id = []\n",
        "\n",
        "  #Add data points from first data set\n",
        "  for event in range(len(data1)):\n",
        "    line = data1[event].split()\n",
        "\n",
        "    if int(line[9])==1:\n",
        "      energies.append(float(line[11]))\n",
        "      prev_id = line[11:15]\n",
        "\n",
        "    elif line[11:15] != prev_id:\n",
        "      energies.append(float(line[11]))\n",
        "      prev_id = line[11:15]\n",
        "\n",
        "  #Now add for the second\n",
        "  for event in range(len(data2)):\n",
        "    line = data2[event].split()\n",
        "\n",
        "    if int(line[9])==1:\n",
        "      energies.append(float(line[11]))\n",
        "      prev_id = line[11:15]\n",
        "\n",
        "    elif line[11:15] != prev_id:\n",
        "      energies.append(float(line[11]))\n",
        "      prev_id = line[11:15]\n",
        "\n",
        "  #Then the third\n",
        "  for event in range(len(data3)):\n",
        "    line = data3[event].split()\n",
        "\n",
        "    if int(line[9])==1:\n",
        "      energies.append(float(line[11]))\n",
        "      prev_id = line[11:15]\n",
        "\n",
        "    elif line[11:15] != prev_id:\n",
        "      energies.append(float(line[11]))\n",
        "      prev_id = line[11:15]\n",
        "\n",
        "  #Finaly, the fourth\n",
        "  for event in range(len(data4)):\n",
        "    line = data4[event].split()\n",
        "\n",
        "    if int(line[9])==1:\n",
        "      energies.append(float(line[11]))\n",
        "      prev_id = line[11:15]\n",
        "\n",
        "    elif line[11:15] != prev_id:\n",
        "      energies.append(float(line[11]))\n",
        "      prev_id = line[11:15]\n",
        "\n",
        "  plt.figure()\n",
        "  my_plot = plt.hist(energies,100)\n",
        "  plt.xlabel(\"Energy (MeV)\")\n",
        "  plt.ylabel(\"Counts\")\n",
        "  plt.title(name + \" Energy Spectra\")\n",
        "\n",
        "  return my_plot"
      ],
      "execution_count": null,
      "outputs": []
    },
    {
      "cell_type": "code",
      "metadata": {
        "id": "D2jt8DFzHLQp"
      },
      "source": [
        "#Open the scored alpha particle data from the four beams\n",
        "Beam1 = open('/content/drive/MyDrive/Alpha Spectrum/Aspec_Beam40_S1.phsp').readlines()\n",
        "Beam2 = open('/content/drive/MyDrive/Alpha Spectrum/Aspec_Beam160_S1.phsp').readlines()\n",
        "Beam3 = open('/content/drive/MyDrive/Alpha Spectrum/Aspec_Beam200_S1.phsp').readlines()\n",
        "Beam4 = open('/content/drive/MyDrive/Alpha Spectrum/Aspec_Beam320_S1.phsp').readlines()"
      ],
      "execution_count": null,
      "outputs": []
    },
    {
      "cell_type": "code",
      "metadata": {
        "colab": {
          "base_uri": "https://localhost:8080/",
          "height": 295
        },
        "id": "ImLnyMynHknM",
        "outputId": "04c81d38-25d0-4b2b-ad31-de6e73e8d49c"
      },
      "source": [
        "arrays = energy_spec(Beam1,Beam2,Beam3,Beam4,\"Four Beams: Alpha\")"
      ],
      "execution_count": null,
      "outputs": [
        {
          "output_type": "display_data",
          "data": {
            "image/png": "[encoded data removed]",
            "text/plain": [
              "<Figure size 432x288 with 1 Axes>"
            ]
          },
          "metadata": {
            "tags": [],
            "needs_background": "light"
          }
        }
      ]
    },
    {
      "cell_type": "code",
      "metadata": {
        "colab": {
          "base_uri": "https://localhost:8080/"
        },
        "id": "Lo_u4q9oIPN5",
        "outputId": "1d062186-3bf7-4092-e310-de67848b472a"
      },
      "source": [
        "#Determine the mean energy and the proportion of particles with energy greater \n",
        "#than 30MeV\n",
        "\n",
        "#Initiate the mean value\n",
        "weightedE = 0\n",
        "#Initiate the number of alphas with energy > 30MeV\n",
        "suff = 0\n",
        "\n",
        "#Iterate over the spectrum\n",
        "for element in range(len(arrays[0])):\n",
        "  energy = arrays[1][element+1]\n",
        "  fraction = arrays[0][element]/sum(arrays[0])\n",
        "  weightedE += fraction*energy\n",
        "\n",
        "  #Determine if the energy is greater than 30MeV\n",
        "  if energy > 30:\n",
        "    suff += arrays[0][element]\n",
        "\n",
        "\n",
        "print(weightedE)\n",
        "print(suff/sum(arrays[0]))"
      ],
      "execution_count": null,
      "outputs": [
        {
          "output_type": "stream",
          "text": [
            "12.27445231131672\n",
            "0.025592150490594337\n"
          ],
          "name": "stdout"
        }
      ]
    },
    {
      "cell_type": "code",
      "metadata": {
        "id": "3MpjF8MtzesN",
        "colab": {
          "base_uri": "https://localhost:8080/"
        },
        "outputId": "c1054ea0-4a3a-4e91-be46-788433f2cdab"
      },
      "source": [
        "#This script calculates the LETd based of kinetic energies from the spectrum and \n",
        "#their corresponding stopping power from the NIST ASTAR tables.\n",
        "\n",
        "#Initiate the numerator and denominator as 0.\n",
        "numerator = 0\n",
        "denominator = 0\n",
        "\n",
        "#Read csv data\n",
        "with open('/content/NIST data.csv', newline='') as csvfile:\n",
        "  reader = csv.DictReader(csvfile)\n",
        "  for row in reader:\n",
        "    KE = float(row['\\ufeffKinetic Energy'])\n",
        "    SP = float(row['Stopping Power'])*10**(-1)\n",
        "    Count = int(row['Counts'])\n",
        "    numerator += (SP**2)*Count\n",
        "    denominator += SP*Count\n",
        "\n",
        "#Calculate the LETd as the numerator divided by the denominator\n",
        "print(numerator/denominator)"
      ],
      "execution_count": 6,
      "outputs": [
        {
          "output_type": "stream",
          "text": [
            "67.26585509840537\n"
          ],
          "name": "stdout"
        }
      ]
    }
  ]
}