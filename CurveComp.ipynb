{
  "nbformat": 4,
  "nbformat_minor": 0,
  "metadata": {
    "colab": {
      "name": "CurveComp.ipynb",
      "provenance": [],
      "collapsed_sections": [],
      "mount_file_id": "1AJlNeAXehAGEf98uHbKx1iVtWgHGkDas",
      "authorship_tag": "ABX9TyN/a5o138EoULlOWA7++7Ml"
    },
    "kernelspec": {
      "name": "python3",
      "display_name": "Python 3"
    },
    "language_info": {
      "name": "python"
    }
  },
  "cells": [
    {
      "cell_type": "markdown",
      "metadata": {
        "id": "_9bif4_yWbtg"
      },
      "source": [
        "This notebook reads a Topas CSV and Acuros xml files. Then, it can plot the dose deposition curves for a given energy."
      ]
    },
    {
      "cell_type": "code",
      "metadata": {
        "id": "ZdtmNokc_vu3"
      },
      "source": [
        "#Import ET to read XML files\n",
        "import xml.etree.ElementTree as ET\n",
        "\n",
        "#Import interpolation to get MU to proton number curve\n",
        "from scipy.interpolate import interp1d\n",
        "\n",
        "import matplotlib.pyplot as plt\n",
        "\n",
        "import pandas as pd"
      ],
      "execution_count": null,
      "outputs": []
    },
    {
      "cell_type": "code",
      "metadata": {
        "id": "zbhUU1qyCSUw"
      },
      "source": [
        "def xml_curve(path,idx):\n",
        "\n",
        "  #Read the xml file\n",
        "  tree = ET.parse(path)\n",
        "  root = tree.getroot()\n",
        "\n",
        "  #Initiate lists for x any y axes values\n",
        "  position = []\n",
        "  values = []\n",
        "\n",
        "  #Obtain curve data points from xml file. Break single string into a list\n",
        "  data = root[0][idx].text.split(';')\n",
        "  #Remove last blank value in list\n",
        "  data.pop()\n",
        "\n",
        "  #Iterate over every data point and add values to respective list\n",
        "  for item in data:\n",
        "    case = item.split(',')\n",
        "    position.append(float(case[0]))\n",
        "    values.append(float(case[1]))\n",
        "\n",
        "  #Use scipy interpolation function to create a curve\n",
        "  curve = interp1d(position,values,kind='linear',fill_value=\"extrapolate\")\n",
        "\n",
        "  return curve\n"
      ],
      "execution_count": null,
      "outputs": []
    },
    {
      "cell_type": "code",
      "metadata": {
        "id": "uSM1pa8FnQ9u"
      },
      "source": [
        "def Topas_parameters(energy):\n",
        "  '''\n",
        "  Takes a given energy and resturns the mean energy and standard deviation that\n",
        "  would be obtained for a ProBeam machine\n",
        "  '''\n",
        "  #Read xml conversion curves\n",
        "  real_meanE = xml_curve('/content/drive/MyDrive/004_option01_energyspectrummean.xml',0)\n",
        "  energy_sigma = xml_curve('/content/drive/MyDrive/004_option01_energyspectrumsigma.xml',0)\n",
        "\n",
        "  #Determine the mean energy\n",
        "  eng = real_meanE(energy)\n",
        "  #Determine the percentage energy spread\n",
        "  spread = 100 * energy_sigma(energy)/real_meanE(energy)\n",
        "\n",
        "  return eng, spread"
      ],
      "execution_count": null,
      "outputs": []
    },
    {
      "cell_type": "code",
      "metadata": {
        "colab": {
          "base_uri": "https://localhost:8080/"
        },
        "id": "YS4KBftu8Q8_",
        "outputId": "d7d33ab6-d263-42ec-ddac-22ba99631ee6"
      },
      "source": [
        "Topas_parameters(180)"
      ],
      "execution_count": null,
      "outputs": [
        {
          "output_type": "execute_result",
          "data": {
            "text/plain": [
              "(array(180.075), 0.703784534221852)"
            ]
          },
          "metadata": {
            "tags": []
          },
          "execution_count": 61
        }
      ]
    },
    {
      "cell_type": "code",
      "metadata": {
        "id": "yLU8aFihMe3U"
      },
      "source": [
        "def compare_curves(csv, energy, xmax):\n",
        "  '''\n",
        "  Plots the depth deposition curves of proton beams with a given energy in MeV, up \n",
        "  to a given depth xmax.\n",
        "  Topas data obtained through csv file. Acuros data from xml file\n",
        "  '''\n",
        "\n",
        "  #Read the Topas CSV file\n",
        "  df = pd.read_csv(csv, error_bad_lines=False)\n",
        "  #Obtain Topas percentage depth doses\n",
        "  topas = df[\"Dose\"]/max(df[\"Dose\"])\n",
        "  #Establish the depths of each dose measurement\n",
        "  zval = 400 - 0.1*df[\"z\"]\n",
        "\n",
        "  #Read the measured data curves\n",
        "  xml1 = '/content/004_option01_measureddepthdose.xml'\n",
        "  index = int((energy-70)/5)\n",
        "  acuros1 = xml_curve(xml1,index)\n",
        "\n",
        "  #Read the calculated data curves\n",
        "  xml2 = '/content/004_option01_calculateddepthdose.xml'\n",
        "  acuros2 = xml_curve(xml2,index)\n",
        "\n",
        "  #Create the plot\n",
        "  plt.plot(zval,topas,label = \"Topas\")\n",
        "  plt.plot(zval,acuros1(zval)/max(acuros1(zval)),label = \"Measured Acuros\")\n",
        "  plt.plot(zval,acuros2(zval)/max(acuros2(zval)),label = \"Calculated Acuros\")\n",
        "  plt.xlim(left=200,right= xmax)\n",
        "  plt.title(\"Comparison between Topas and Acuros for \" + str(energy) +\"MeV Protons\")\n",
        "  plt.xlabel(\"Depth (mm)\")\n",
        "  plt.ylabel(\"Percentage Depth Dose\")\n",
        "  plt.legend()\n",
        "\n",
        "\n",
        "  return topas"
      ],
      "execution_count": null,
      "outputs": []
    },
    {
      "cell_type": "code",
      "metadata": {
        "colab": {
          "base_uri": "https://localhost:8080/",
          "height": 295
        },
        "id": "dW5ztpfWODTa",
        "outputId": "0456c938-5b48-40c5-c103-205fb1948a6b"
      },
      "source": [
        "array = compare_curves(\"/content/drive/MyDrive/TestEnergies/E180MeV.csv\",180,230)\n"
      ],
      "execution_count": null,
      "outputs": [
        {
          "output_type": "display_data",
          "data": {
            "image/png": "[encoded data removed]",
            "text/plain": [
              "<Figure size 432x288 with 1 Axes>"
            ]
          },
          "metadata": {
            "tags": [],
            "needs_background": "light"
          }
        }
      ]
    }
  ]
}