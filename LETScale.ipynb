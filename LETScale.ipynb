{
  "nbformat": 4,
  "nbformat_minor": 0,
  "metadata": {
    "colab": {
      "name": "LETScale.ipynb",
      "provenance": [],
      "collapsed_sections": [],
      "mount_file_id": "1Pa3NDRAu2S8Cb1IgdZtNefJCb--wb3Lf",
      "authorship_tag": "ABX9TyNHsK3ByF9m7Da9l+GG4bXI"
    },
    "kernelspec": {
      "name": "python3",
      "display_name": "Python 3"
    },
    "language_info": {
      "name": "python"
    }
  },
  "cells": [
    {
      "cell_type": "markdown",
      "metadata": {
        "id": "edz-Pochv_-m"
      },
      "source": [
        "This notebook combines the four beams together to create an RBE weighted dose map using the Wedenberg model."
      ]
    },
    {
      "cell_type": "code",
      "metadata": {
        "colab": {
          "base_uri": "https://localhost:8080/"
        },
        "id": "GYZ98FlJoINo",
        "outputId": "2866d057-2fa5-4ab9-be4a-a40e77eeffcf"
      },
      "source": [
        "#Install the Pydiocom Library\n",
        "!pip install pydicom"
      ],
      "execution_count": null,
      "outputs": [
        {
          "output_type": "stream",
          "text": [
            "Collecting pydicom\n",
            "\u001b[?25l  Downloading https://files.pythonhosted.org/packages/f4/15/df16546bc59bfca390cf072d473fb2c8acd4231636f64356593a63137e55/pydicom-2.1.2-py3-none-any.whl (1.9MB)\n",
            "\u001b[K     |████████████████████████████████| 1.9MB 7.6MB/s \n",
            "\u001b[?25hInstalling collected packages: pydicom\n",
            "Successfully installed pydicom-2.1.2\n"
          ],
          "name": "stdout"
        }
      ]
    },
    {
      "cell_type": "code",
      "metadata": {
        "id": "D3o1E52nuQfM"
      },
      "source": [
        "#Import the pydicom library to access the data from dicom files\n",
        "import pydicom\n",
        "import numpy as np"
      ],
      "execution_count": null,
      "outputs": []
    },
    {
      "cell_type": "code",
      "metadata": {
        "id": "PehJ_NGKFJuZ"
      },
      "source": [
        "def ProtonRBEWberg(dose,LET,ab):\n",
        "  '''The function determines the proton RBE using the Wedenberg empirical model.\n",
        "  The inputs are proton dose per fraction, the voxel's proton LET and the\n",
        "  alpha/beta ratio of the tissue. Returns the RBE of the proton.\n",
        "  '''\n",
        "  #Use linear LET model to find the max RBE\n",
        "  max = 1 + 0.434*(LET/ab)\n",
        "  #Assumes min RBE is one\n",
        "  min = 1\n",
        "\n",
        "  if dose == 0:\n",
        "    RBE = min\n",
        "  else:\n",
        "    #Use linear quadratic model solution to find RBE\n",
        "    RBE = (1/dose)*np.sqrt((1/4)*(ab**2) + max*ab*dose + min*(dose**2)) -ab/(2*dose)\n",
        "    \n",
        "  return RBE"
      ],
      "execution_count": null,
      "outputs": []
    },
    {
      "cell_type": "code",
      "metadata": {
        "id": "j7U0v9hGn7wI"
      },
      "source": [
        "#Open the LET files\n",
        "LETBase = pydicom.dcmread(\"/content/drive/MyDrive/ProtonDoseLET/LET_Beam40_S1.dcm\")\n",
        "LET40  = pydicom.dcmread(\"/content/drive/MyDrive/ProtonDoseLET/LET_Beam40_S1.dcm\")\n",
        "LET160 = pydicom.dcmread(\"/content/drive/MyDrive/ProtonDoseLET/LET_Beam160_S1.dcm\")\n",
        "LET200 = pydicom.dcmread(\"/content/drive/MyDrive/ProtonDoseLET/LET_Beam200_S1.dcm\")\n",
        "LET320 = pydicom.dcmread(\"/content/drive/MyDrive/ProtonDoseLET/LET_Beam320_S1.dcm\")\n",
        "\n",
        "#Open the Proton Dose Files\n",
        "PDoseBase = pydicom.dcmread(\"/content/drive/MyDrive/ProtonDoseLET/ProtonDose_Beam40_S2.dcm\")\n",
        "PDose40  = pydicom.dcmread(\"/content/drive/MyDrive/ProtonDoseLET/ProtonDose_Beam40_S2.dcm\")\n",
        "PDose160 = pydicom.dcmread(\"/content/drive/MyDrive/ProtonDoseLET/ProtonDose_Beam160_S2.dcm\")\n",
        "PDose200 = pydicom.dcmread(\"/content/drive/MyDrive/ProtonDoseLET/ProtonDose_Beam200_S2.dcm\")\n",
        "PDose320 = pydicom.dcmread(\"/content/drive/MyDrive/ProtonDoseLET/ProtonDose_Beam320_S2.dcm\")"
      ],
      "execution_count": null,
      "outputs": []
    },
    {
      "cell_type": "code",
      "metadata": {
        "id": "z_GPx5Z7o7V_"
      },
      "source": [
        "#This script determines the RBE-weighted dose distributions for all 4 beams \n",
        "#using the Wedenbergy model. It then combines the 4 beams into one image.\n",
        "\n",
        "scale = 10**-9\n",
        "array = PDoseBase.pixel_array\n",
        "ab=2.5\n",
        "\n",
        "#Iterate over each voxel\n",
        "for z in range(LETBase.NumberOfFrames):\n",
        "  for x in range(LETBase.Rows):\n",
        "    for y in range(LETBase.Columns):\n",
        "\n",
        "      #First for the 40 degree beam\n",
        "      dose40 =1000*PDose40.pixel_array[z][x][y]*PDose40.DoseGridScaling\n",
        "      le40 = LET40.pixel_array[z][x][y]*LET40.DoseGridScaling\n",
        "      RBE40 = dose40*ProtonRBEWberg(dose40,le40,ab)\n",
        "\n",
        "      #Then the 160 degree beam\n",
        "      dose160 =1000*PDose160.pixel_array[z][x][y]*PDose160.DoseGridScaling\n",
        "      le160 = LET160.pixel_array[z][x][y]*LET160.DoseGridScaling\n",
        "      RBE160 = dose160*ProtonRBEWberg(dose160,le160,ab)\n",
        "\n",
        "      #Then the 200 degree beam\n",
        "      dose200 =1000*PDose200.pixel_array[z][x][y]*PDose200.DoseGridScaling\n",
        "      le200 = LET200.pixel_array[z][x][y]*LET200.DoseGridScaling\n",
        "      RBE200 = dose200*ProtonRBEWberg(dose200,le200,ab)\n",
        "\n",
        "      #Finally the 320 degree beam\n",
        "      dose320 =1000*PDose320.pixel_array[z][x][y]*PDose320.DoseGridScaling\n",
        "      le320 = LET320.pixel_array[z][x][y]*LET320.DoseGridScaling\n",
        "      RBE320 = dose320*ProtonRBEWberg(dose320,le320,ab)\n",
        "\n",
        "      #Then the four beams are combined\n",
        "      array[z][x][y]= (1/scale)*(RBE40 + RBE160 + RBE200 + RBE320)\n",
        "\n",
        "#Save the new DICOM image\n",
        "PDoseBase.PixelData = array.tobytes()     \n",
        "PDoseBase.save_as(\"/content/drive/MyDrive/RBEscale/LETScale_Brainstem_Seed2.dcm\")"
      ],
      "execution_count": null,
      "outputs": []
    }
  ]
}