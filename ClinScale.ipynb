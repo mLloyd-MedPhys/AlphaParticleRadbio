{
  "nbformat": 4,
  "nbformat_minor": 0,
  "metadata": {
    "colab": {
      "name": "ClinScale.ipynb",
      "provenance": [],
      "collapsed_sections": [],
      "authorship_tag": "ABX9TyMDGplo02862Rl1VvjsEkJ4"
    },
    "kernelspec": {
      "name": "python3",
      "display_name": "Python 3"
    },
    "language_info": {
      "name": "python"
    }
  },
  "cells": [
    {
      "cell_type": "markdown",
      "metadata": {
        "id": "1PfVe5y3u9fr"
      },
      "source": [
        "This notebook combines the proton dose DICOM files from the 4 Topas simulations into one single image. It can also scale the dose by the clinical RBE of 1.1"
      ]
    },
    {
      "cell_type": "code",
      "metadata": {
        "colab": {
          "base_uri": "https://localhost:8080/"
        },
        "id": "I8TMBApWtu8m",
        "outputId": "e364bb46-7267-4c3a-c855-5410fbdbc075"
      },
      "source": [
        "#Install the Pydiocom Library\n",
        "!pip install pydicom"
      ],
      "execution_count": null,
      "outputs": [
        {
          "output_type": "stream",
          "text": [
            "Collecting pydicom\n",
            "\u001b[?25l  Downloading https://files.pythonhosted.org/packages/f4/15/df16546bc59bfca390cf072d473fb2c8acd4231636f64356593a63137e55/pydicom-2.1.2-py3-none-any.whl (1.9MB)\n",
            "\u001b[K     |████████████████████████████████| 1.9MB 6.7MB/s \n",
            "\u001b[?25hInstalling collected packages: pydicom\n",
            "Successfully installed pydicom-2.1.2\n"
          ],
          "name": "stdout"
        }
      ]
    },
    {
      "cell_type": "code",
      "metadata": {
        "id": "D3o1E52nuQfM"
      },
      "source": [
        "#Import the pydicom library to access the data from dicom files\n",
        "import pydicom\n",
        "import numpy as np"
      ],
      "execution_count": null,
      "outputs": []
    },
    {
      "cell_type": "code",
      "metadata": {
        "id": "-fGJE5qBuwB4"
      },
      "source": [
        "#Open the Proton Dose Files\n",
        "PDoseBase = pydicom.dcmread(\"/content/drive/MyDrive/ProtonDoseLET/ProtonDose_Beam40_S1.dcm\")\n",
        "PDose40  = pydicom.dcmread(\"/content/drive/MyDrive/ProtonDoseLET/ProtonDose_Beam40_S1.dcm\")\n",
        "PDose160 = pydicom.dcmread(\"/content/drive/MyDrive/ProtonDoseLET/ProtonDose_Beam160_S1.dcm\")\n",
        "PDose200 = pydicom.dcmread(\"/content/drive/MyDrive/ProtonDoseLET/ProtonDose_Beam200_S1.dcm\")\n",
        "PDose320 = pydicom.dcmread(\"/content/drive/MyDrive/ProtonDoseLET/ProtonDose_Beam320_S1.dcm\")"
      ],
      "execution_count": null,
      "outputs": []
    },
    {
      "cell_type": "code",
      "metadata": {
        "id": "DVUOlUbqt2VH"
      },
      "source": [
        "#This section creates a combined DICOM of all 4 beams\n",
        "\n",
        "#Use this file as a base for the new information to be written on\n",
        "PDosearr = PDoseBase.pixel_array\n",
        "#Select a dose grid scale\n",
        "PD_scale = 10**(-9)\n",
        "\n",
        "#Iterate over each voxel and combine the dose of all four beams\n",
        "for z in range(PDoseBase.NumberOfFrames):\n",
        "  for x in range(PDoseBase.Rows):\n",
        "    for y in range(PDoseBase.Columns):\n",
        "      PDosearr[z][x][y] = (1/PD_scale)*1000*(PDose40.pixel_array[z][x][y]*PDose40.DoseGridScaling +\n",
        "                                           PDose160.pixel_array[z][x][y]*PDose160.DoseGridScaling + \n",
        "                                           PDose200.pixel_array[z][x][y]*PDose200.DoseGridScaling + \n",
        "                                           PDose320.pixel_array[z][x][y]*PDose320.DoseGridScaling)\n",
        "\n",
        "#Save the output data\n",
        "PDoseBase.PixelData = PDosearr.tobytes()     \n",
        "PDoseBase.save_as(\"/content/drive/MyDrive/ProtonDoseLET/ProtonOneFrac.dcm\")"
      ],
      "execution_count": null,
      "outputs": []
    },
    {
      "cell_type": "code",
      "metadata": {
        "id": "tSkWdb0WOHdu"
      },
      "source": [
        "#Open the combined DICOM image\n",
        "pro_base = pydicom.dcmread(\"/content/drive/MyDrive/ProtonDoseLET/ProtonOneFrac.dcm\")\n",
        "pro_1f = pydicom.dcmread(\"/content/drive/MyDrive/ProtonDoseLET/ProtonOneFrac.dcm\")\n",
        "\n",
        "arr11 = pro_base.pixel_array\n",
        "PD_scale = 10**(-9)\n",
        "\n",
        "#Iterate over each voxel and multiply the dose by a RBE of 1.1.\n",
        "for z in range(pro_base.NumberOfFrames):\n",
        "  for x in range(pro_base.Rows):\n",
        "    for y in range(pro_base.Columns):\n",
        "      arr11[z][x][y]= 1.1 * pro_1f.pixel_array[z][x][y]\n",
        "\n",
        "#Save the DICOM\n",
        "pro_base.PixelData = arr11.tobytes()     \n",
        "pro_base.save_as(\"/content/drive/MyDrive/RBEscale/ClinScale.dcm\")"
      ],
      "execution_count": null,
      "outputs": []
    }
  ]
}