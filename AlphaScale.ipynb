{
  "nbformat": 4,
  "nbformat_minor": 0,
  "metadata": {
    "colab": {
      "name": "AlphaScale.ipynb",
      "provenance": [],
      "collapsed_sections": [],
      "mount_file_id": "1hYheTQbvt0dxNoOLOMnBeQ0qX414DKzn",
      "authorship_tag": "ABX9TyOtkQGw3/4OT1mUkpBsaP+n"
    },
    "kernelspec": {
      "name": "python3",
      "display_name": "Python 3"
    },
    "language_info": {
      "name": "python"
    }
  },
  "cells": [
    {
      "cell_type": "markdown",
      "metadata": {
        "id": "_I_pt7T7yBWi"
      },
      "source": [
        "This notebook finds the RBE-weighted dose of the alpha particles and adds it to the RBE weighted dose of the protons."
      ]
    },
    {
      "cell_type": "code",
      "metadata": {
        "colab": {
          "base_uri": "https://localhost:8080/"
        },
        "id": "GYZ98FlJoINo",
        "outputId": "1a26dc96-5018-4cb0-d13e-917ccc5315f2"
      },
      "source": [
        "#Install the Pydiocom Library\n",
        "!pip install pydicom"
      ],
      "execution_count": 1,
      "outputs": [
        {
          "output_type": "stream",
          "text": [
            "Collecting pydicom\n",
            "\u001b[?25l  Downloading https://files.pythonhosted.org/packages/f4/15/df16546bc59bfca390cf072d473fb2c8acd4231636f64356593a63137e55/pydicom-2.1.2-py3-none-any.whl (1.9MB)\n",
            "\u001b[K     |████████████████████████████████| 1.9MB 2.9MB/s \n",
            "\u001b[?25hInstalling collected packages: pydicom\n",
            "Successfully installed pydicom-2.1.2\n"
          ],
          "name": "stdout"
        }
      ]
    },
    {
      "cell_type": "code",
      "metadata": {
        "id": "D3o1E52nuQfM"
      },
      "source": [
        "#Import the pydicom library to access the data from dicom files\n",
        "import pydicom\n",
        "import numpy as np"
      ],
      "execution_count": 2,
      "outputs": []
    },
    {
      "cell_type": "code",
      "metadata": {
        "id": "vhwMfJ2ABhHA"
      },
      "source": [
        "def AlphaRBE(dose,LET,ab):\n",
        "  '''Determines the RBE of a voxel using the QE method proposed by Mairani et al.\n",
        "  Inputs are the voxel dose for one fraction, the LET of the alpha particles and \n",
        "  the alpha/beta ratio for the tissue. Returns the RBE of alpha particle.\n",
        "  '''\n",
        "\n",
        "  #Use parameters determined by Mairani et al\n",
        "  k0 = 0.136938\n",
        "  k1 = 0.00973154\n",
        "  k2 = 0.0151998 \n",
        "\n",
        "  #Find the value of the Quadratic Exponential (QE) LET function\n",
        "  QE = (k1*(LET**2))*np.exp(-k2*LET)\n",
        "\n",
        "  #Determine the maximum RBE\n",
        "  max = 1 + (k0+(1/ab))*QE\n",
        "  #Minimum RBE set to 1\n",
        "  min = 1\n",
        "\n",
        "  if dose == 0:\n",
        "    RBE = min\n",
        "  else:\n",
        "    #Use linear quadratic model solution to find RBE\n",
        "    RBE = (1/dose)*np.sqrt((1/4)*(ab**2) + max*ab*dose + min*(dose**2)) -ab/(2*dose)\n",
        "  return RBE\n"
      ],
      "execution_count": null,
      "outputs": []
    },
    {
      "cell_type": "code",
      "metadata": {
        "id": "ZWit5Ysz90lc"
      },
      "source": [
        "#Open the beam files\n",
        "AlphaBase = pydicom.dcmread(\"/content/drive/MyDrive/AlphaDose/AlphaDose_Beam40_S1.dcm\")\n",
        "Alpha40 = pydicom.dcmread(\"/content/drive/MyDrive/AlphaDose/AlphaDose_Beam40_S1.dcm\")\n",
        "Alpha160 = pydicom.dcmread(\"/content/drive/MyDrive/AlphaDose/AlphaDose_Beam160_S1.dcm\")\n",
        "Alpha200 = pydicom.dcmread(\"/content/drive/MyDrive/AlphaDose/AlphaDose_Beam200_S1.dcm\")\n",
        "Alpha320 = pydicom.dcmread(\"/content/drive/MyDrive/AlphaDose/AlphaDose_Beam320_S1.dcm\")"
      ],
      "execution_count": null,
      "outputs": []
    },
    {
      "cell_type": "code",
      "metadata": {
        "id": "LaAAj_Z7xTQl"
      },
      "source": [
        "#This script combines the four alpha particle dose files together\n",
        "\n",
        "Alphaarr = AlphaBase.pixel_array\n",
        "scale = 2*10**(-11)\n",
        "\n",
        "#Iterate over each voxel\n",
        "for z in range(AlphaBase.NumberOfFrames):\n",
        "  for x in range(AlphaBase.Rows):\n",
        "    for y in range(AlphaBase.Columns):\n",
        "      Alphaarr[z][x][y] = (1/scale)*1000*(Alpha40.pixel_array[z][x][y]*Alpha40.DoseGridScaling +\n",
        "                                           Alpha160.pixel_array[z][x][y]*Alpha160.DoseGridScaling + \n",
        "                                           Alpha200.pixel_array[z][x][y]*Alpha200.DoseGridScaling + \n",
        "                                           Alpha320.pixel_array[z][x][y]*Alpha320.DoseGridScaling)\n",
        "#Save the output\n",
        "AlphaBase.PixelData = Alphaarr.tobytes()     \n",
        "AlphaBase.save_as(\"/content/drive/MyDrive/AlphaDose/AlphaOneFrac.dcm\")"
      ],
      "execution_count": null,
      "outputs": []
    },
    {
      "cell_type": "code",
      "metadata": {
        "id": "duCZgPk7APEf",
        "colab": {
          "base_uri": "https://localhost:8080/",
          "height": 228
        },
        "outputId": "e641c301-55ef-4f30-a8e2-a205f44063db"
      },
      "source": [
        "#This determine the RBE-weighted dose for the alpha particles and add it to the\n",
        "#RBE weighted dose of the protons.\n",
        "\n",
        "#Use the LET derived from energy spectrum\n",
        "LET = 67.26585509840537\n",
        "ab = 10.6\n",
        "\n",
        "#Import alpha particle information\n",
        "alpha = pydicom.dcmread(\"/content/drive/MyDrive/AlphaDose/AlphaOneFrac.dcm\")\n",
        "a_scale = 2*10**(-11)\n",
        "\n",
        "#Import proton RBE weighted doses\n",
        "proton = pydicom.dcmread(\"/content/drive/MyDrive/RBEscale/LETScale_CTV.dcm\")\n",
        "p_scale = 10**(-9)\n",
        "\n",
        "base = pydicom.dcmread(\"/content/drive/MyDrive/RBEscale/LETScale_CTV.dcm\")\n",
        "array = base.pixel_array\n",
        "\n",
        "#Iterate over each voxel\n",
        "for z in range(base.NumberOfFrames):\n",
        "  for x in range(base.Rows):\n",
        "    for y in range(base.Columns):\n",
        "      p_dose = proton.pixel_array[z][x][y]*p_scale\n",
        "      a_dose = alpha.pixel_array[z][x][y]*a_scale\n",
        "      a_dose_RBE = a_dose*AlphaRBE(a_dose,LET,ab)\n",
        "\n",
        "      array[z][x][y] = (1/p_scale)*(a_dose_RBE+p_dose)\n",
        "\n",
        "#Save the output\n",
        "base.PixelData = array.tobytes() \n",
        "base.save_as(\"/content/drive/MyDrive/RBEscale/AlphaScale_CTV.dcm\")"
      ],
      "execution_count": 3,
      "outputs": [
        {
          "output_type": "error",
          "ename": "NameError",
          "evalue": "ignored",
          "traceback": [
            "\u001b[0;31m---------------------------------------------------------------------------\u001b[0m",
            "\u001b[0;31mNameError\u001b[0m                                 Traceback (most recent call last)",
            "\u001b[0;32m<ipython-input-3-43b57c2975e2>\u001b[0m in \u001b[0;36m<module>\u001b[0;34m()\u001b[0m\n\u001b[1;32m     17\u001b[0m       \u001b[0mp_dose\u001b[0m \u001b[0;34m=\u001b[0m \u001b[0mproton\u001b[0m\u001b[0;34m.\u001b[0m\u001b[0mpixel_array\u001b[0m\u001b[0;34m[\u001b[0m\u001b[0mz\u001b[0m\u001b[0;34m]\u001b[0m\u001b[0;34m[\u001b[0m\u001b[0mx\u001b[0m\u001b[0;34m]\u001b[0m\u001b[0;34m[\u001b[0m\u001b[0my\u001b[0m\u001b[0;34m]\u001b[0m\u001b[0;34m*\u001b[0m\u001b[0mp_scale\u001b[0m\u001b[0;34m\u001b[0m\u001b[0;34m\u001b[0m\u001b[0m\n\u001b[1;32m     18\u001b[0m       \u001b[0ma_dose\u001b[0m \u001b[0;34m=\u001b[0m \u001b[0malpha\u001b[0m\u001b[0;34m.\u001b[0m\u001b[0mpixel_array\u001b[0m\u001b[0;34m[\u001b[0m\u001b[0mz\u001b[0m\u001b[0;34m]\u001b[0m\u001b[0;34m[\u001b[0m\u001b[0mx\u001b[0m\u001b[0;34m]\u001b[0m\u001b[0;34m[\u001b[0m\u001b[0my\u001b[0m\u001b[0;34m]\u001b[0m\u001b[0;34m*\u001b[0m\u001b[0ma_scale\u001b[0m\u001b[0;34m\u001b[0m\u001b[0;34m\u001b[0m\u001b[0m\n\u001b[0;32m---> 19\u001b[0;31m       \u001b[0ma_dose_RBE\u001b[0m \u001b[0;34m=\u001b[0m \u001b[0ma_dose\u001b[0m\u001b[0;34m*\u001b[0m\u001b[0mAlphaRBE\u001b[0m\u001b[0;34m(\u001b[0m\u001b[0ma_dose\u001b[0m\u001b[0;34m,\u001b[0m\u001b[0mLET\u001b[0m\u001b[0;34m,\u001b[0m\u001b[0mab\u001b[0m\u001b[0;34m)\u001b[0m\u001b[0;34m\u001b[0m\u001b[0;34m\u001b[0m\u001b[0m\n\u001b[0m\u001b[1;32m     20\u001b[0m \u001b[0;34m\u001b[0m\u001b[0m\n\u001b[1;32m     21\u001b[0m       \u001b[0marray\u001b[0m\u001b[0;34m[\u001b[0m\u001b[0mz\u001b[0m\u001b[0;34m]\u001b[0m\u001b[0;34m[\u001b[0m\u001b[0mx\u001b[0m\u001b[0;34m]\u001b[0m\u001b[0;34m[\u001b[0m\u001b[0my\u001b[0m\u001b[0;34m]\u001b[0m \u001b[0;34m=\u001b[0m \u001b[0;34m(\u001b[0m\u001b[0;36m1\u001b[0m\u001b[0;34m/\u001b[0m\u001b[0mp_scale\u001b[0m\u001b[0;34m)\u001b[0m\u001b[0;34m*\u001b[0m\u001b[0;34m(\u001b[0m\u001b[0ma_dose_RBE\u001b[0m\u001b[0;34m+\u001b[0m\u001b[0mp_dose\u001b[0m\u001b[0;34m)\u001b[0m\u001b[0;34m\u001b[0m\u001b[0;34m\u001b[0m\u001b[0m\n",
            "\u001b[0;31mNameError\u001b[0m: name 'AlphaRBE' is not defined"
          ]
        }
      ]
    }
  ]
}