{
  "nbformat": 4,
  "nbformat_minor": 0,
  "metadata": {
    "colab": {
      "name": "NTCP.ipynb",
      "provenance": [],
      "collapsed_sections": [],
      "authorship_tag": "ABX9TyP545Rk1LGrUD36KoxccF2d"
    },
    "kernelspec": {
      "name": "python3",
      "display_name": "Python 3"
    },
    "language_info": {
      "name": "python"
    }
  },
  "cells": [
    {
      "cell_type": "markdown",
      "metadata": {
        "id": "b_2NQS2BaIH9"
      },
      "source": [
        "This notebook reads a DVH for an OAR and returns the NTCP using the LKB model."
      ]
    },
    {
      "cell_type": "code",
      "metadata": {
        "id": "nidxC7zpsZy7"
      },
      "source": [
        "#Import relevant libraries\n",
        "import csv\n",
        "import matplotlib.pyplot as plt\n",
        "import numpy as np\n",
        "from scipy.integrate import quad"
      ],
      "execution_count": null,
      "outputs": []
    },
    {
      "cell_type": "code",
      "metadata": {
        "id": "Ie4YdNHnrwV7"
      },
      "source": [
        "#Read the Cummulative DVH and convert it into a differential DVH\n",
        "\n",
        "#Define lists for dose values and their corresponding volume\n",
        "doses = []\n",
        "vol = []\n",
        "\n",
        "#Read the CSV file\n",
        "with open('/content/Parotid_clin.csv', newline='') as csvfile:\n",
        "  reader = csv.DictReader(csvfile)\n",
        "\n",
        "  #Add relevant data to the lists\n",
        "  for row in reader:\n",
        "    doses.append(float(row['Dose']))\n",
        "    vol.append(float(row['Percentage']))\n",
        "\n",
        "#Etablish lists for the differential DVH parameters\n",
        "diffVol = []\n",
        "diffDos = []\n",
        "\n",
        "#Determine the differential parameters\n",
        "for i in range(1,len(vol)):\n",
        "  diffDos.append(35*(doses[i-1]+(doses[i]-doses[i-1])/2))\n",
        "  diffVol.append(vol[i-1]-vol[i])"
      ],
      "execution_count": null,
      "outputs": []
    },
    {
      "cell_type": "code",
      "metadata": {
        "colab": {
          "base_uri": "https://localhost:8080/",
          "height": 281
        },
        "id": "O-pyjtgCshV7",
        "outputId": "761e6074-63e8-479d-c376-704e9097baa7"
      },
      "source": [
        "plt.plot(diffDos,diffVol)"
      ],
      "execution_count": null,
      "outputs": [
        {
          "output_type": "execute_result",
          "data": {
            "text/plain": [
              "[<matplotlib.lines.Line2D at 0x7f66f7b93f90>]"
            ]
          },
          "metadata": {
            "tags": []
          },
          "execution_count": 14
        },
        {
          "output_type": "display_data",
          "data": {
            "image/png": "[encoded data removed]",
            "text/plain": [
              "<Figure size 432x288 with 1 Axes>"
            ]
          },
          "metadata": {
            "tags": [],
            "needs_background": "light"
          }
        }
      ]
    },
    {
      "cell_type": "code",
      "metadata": {
        "id": "A3Szp0B9jJLT"
      },
      "source": [
        "def EUD(dos,vol,n):\n",
        "  '''Calculates the Equivalent Uniform dose based on the differential DVH \n",
        "  parameters and a seriality parameter n.\n",
        "  '''\n",
        "\n",
        "  #Initiate sum of dose contributions as 0\n",
        "  sum = 0\n",
        "  #Add contributions from each voxel\n",
        "  for k in range(len(dos)):\n",
        "    sum += (dos[k]**(1/n))*(vol[k]/100)\n",
        "  \n",
        "  #Raise dose contributions to the power of n to get the EUD\n",
        "  EUD = sum**n\n",
        "  return EUD\n",
        "\n"
      ],
      "execution_count": null,
      "outputs": []
    },
    {
      "cell_type": "code",
      "metadata": {
        "id": "Hom1OOXDi9x4"
      },
      "source": [
        "def NTCP(EUD,m,D50):\n",
        "  '''Returns the NTCP for a given EUD, dose response curve gradient m and the\n",
        "  dose for a 50% probability of complication\n",
        "  '''\n",
        "\n",
        "  #Determine upper limit of integral\n",
        "  t = (EUD - D50)/(m*D50)\n",
        "\n",
        "  #Calculate the NTCP\n",
        "  NTCP = 1/np.sqrt(2*np.pi) * quad(lambda x: np.exp(-(x**2)/2),-np.inf,t)[0]\n",
        "  return NTCP"
      ],
      "execution_count": null,
      "outputs": []
    },
    {
      "cell_type": "code",
      "metadata": {
        "colab": {
          "base_uri": "https://localhost:8080/"
        },
        "id": "bTQ0Vyug0Gfk",
        "outputId": "f2d6f4bc-7bb6-49de-8f86-cf0d01cb010e"
      },
      "source": [
        "bsEUD = EUD(diffDos,diffVol,0.70)\n",
        "print(bsEUD)\n",
        "bsNTCP = NTCP(bsEUD,0.18,46)\n",
        "print(bsNTCP)"
      ],
      "execution_count": null,
      "outputs": [
        {
          "output_type": "stream",
          "text": [
            "44.278158812471325\n",
            "0.4176332879250351\n"
          ],
          "name": "stdout"
        }
      ]
    }
  ]
}