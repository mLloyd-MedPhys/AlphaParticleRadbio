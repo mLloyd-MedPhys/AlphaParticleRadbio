{
  "nbformat": 4,
  "nbformat_minor": 0,
  "metadata": {
    "colab": {
      "name": "CreateTopasFile.ipynb",
      "provenance": [],
      "collapsed_sections": [],
      "mount_file_id": "1kO8iBSVcIS1PlbjQxwvQoTbtO0t1DUEa",
      "authorship_tag": "ABX9TyMy1/K2a6PzGS3uBHGKTvM5",
      "include_colab_link": true
    },
    "kernelspec": {
      "name": "python3",
      "display_name": "Python 3"
    },
    "language_info": {
      "name": "python"
    }
  },
  "cells": [
    {
      "cell_type": "markdown",
      "metadata": {
        "id": "view-in-github",
        "colab_type": "text"
      },
      "source": [
        "<a href=\"https://colab.research.google.com/github/mLloyd-MedPhys/AlphaParticleRadbio/blob/main/CreateTopasFile.ipynb\" target=\"_parent\"><img src=\"https://colab.research.google.com/assets/colab-badge.svg\" alt=\"Open In Colab\"/></a>"
      ]
    },
    {
      "cell_type": "markdown",
      "metadata": {
        "id": "9HD9uxTiQztT"
      },
      "source": [
        "This Notebook was used to read a DICOM plan file and convert the relevant data into a text document of TOPAS parameters."
      ]
    },
    {
      "cell_type": "code",
      "metadata": {
        "colab": {
          "base_uri": "https://localhost:8080/"
        },
        "id": "gcoYTliABLpr",
        "outputId": "41f1250e-35cd-4d35-bb17-ecb5668c12f8"
      },
      "source": [
        "#Install the Pydiocom Library\n",
        "!pip install pydicom"
      ],
      "execution_count": null,
      "outputs": [
        {
          "output_type": "stream",
          "text": [
            "Collecting pydicom\n",
            "\u001b[?25l  Downloading https://files.pythonhosted.org/packages/f4/15/df16546bc59bfca390cf072d473fb2c8acd4231636f64356593a63137e55/pydicom-2.1.2-py3-none-any.whl (1.9MB)\n",
            "\u001b[K     |████████████████████████████████| 1.9MB 6.7MB/s \n",
            "\u001b[?25hInstalling collected packages: pydicom\n",
            "Successfully installed pydicom-2.1.2\n"
          ],
          "name": "stdout"
        }
      ]
    },
    {
      "cell_type": "code",
      "metadata": {
        "id": "jRGZ0GdMCsXb"
      },
      "source": [
        "#Import the pydicom library to access the data from dicom files\n",
        "import pydicom\n",
        "\n",
        "#Import maths functions from the numpy library\n",
        "from numpy import pi\n",
        "from numpy import arctan\n",
        "\n",
        "#Import ET to read XML files\n",
        "import xml.etree.ElementTree as ET\n",
        "\n",
        "#Import interpolation to get MU to proton number curve\n",
        "from scipy.interpolate import interp1d\n",
        "\n",
        "import matplotlib.pyplot as plt"
      ],
      "execution_count": null,
      "outputs": []
    },
    {
      "cell_type": "code",
      "metadata": {
        "id": "0jjob1B5CFlb"
      },
      "source": [
        "def xml_curve(path,idx):\n",
        "  '''\n",
        "  Creates a curve to obtain data out from an xml file\n",
        "  '''\n",
        "  #Read the xml file\n",
        "  tree = ET.parse(path)\n",
        "  root = tree.getroot()\n",
        "\n",
        "  #Initiate lists for x any y axes values\n",
        "  energy = []\n",
        "  values = []\n",
        "\n",
        "  #Obtain curve data points from xml file. Break single string into a list\n",
        "  data = root[0][idx].text.split(';')\n",
        "  #Remove last blank value in list\n",
        "  data.pop()\n",
        "\n",
        "  #Iterate over every data point and add values to respective list\n",
        "  for item in data:\n",
        "    case = item.split(',')\n",
        "    energy.append(float(case[0]))\n",
        "    values.append(float(case[1]))\n",
        "\n",
        "  #Use scipy interpolation function to create a curve\n",
        "  curve = interp1d(energy,values,kind='linear')\n",
        "\n",
        "  return curve"
      ],
      "execution_count": null,
      "outputs": []
    },
    {
      "cell_type": "code",
      "metadata": {
        "id": "BHxK-GghWyNj"
      },
      "source": [
        "#Establish a curve for the number of protons per MU\n",
        "PNumCurve = xml_curve('/content/drive/MyDrive/004_option01_dosenormalization.xml',0)\n",
        "\n",
        "#Establish a curve for the mean energy for a stated beam energy\n",
        "real_meanE = xml_curve('/content/drive/MyDrive/004_option01_energyspectrummean.xml',0)\n",
        "\n",
        "#Establish a curve for the energy standard deviation for a stated beam energy\n",
        "energy_sigma = xml_curve('/content/drive/MyDrive/004_option01_energyspectrumsigma.xml',0)\n",
        "\n",
        "#Establish a curve for the standard deviation of beam spread in the x direction\n",
        "sigmaX = xml_curve('/content/drive/MyDrive/004_option01_spotmodelparametersx.xml',2)\n",
        "\n",
        "#Establish a curve for the standard deviation of beam spread in the y direction\n",
        "sigmaY = xml_curve('/content/drive/MyDrive/004_option01_spotmodelparametersy.xml',2)"
      ],
      "execution_count": null,
      "outputs": []
    },
    {
      "cell_type": "code",
      "metadata": {
        "id": "cPr35xS6hIyv"
      },
      "source": [
        "def WriteIso(iso,text):\n",
        "  '''\n",
        "  Determines the Isocenter position for a patient and writes the corresponding\n",
        "  Topas parameter lines\n",
        "  '''\n",
        "\n",
        "  isoX = \"d:Ge/IsoCenterX = \" + str(iso[0]) + \" mm\"\n",
        "  isoY = \"d:Ge/IsoCenterY = \" + str(iso[1]) + \" mm\"\n",
        "  isoZ = \"d:Ge/IsoCenterZ = \" + str(iso[2]) + \" mm\"\n",
        "\n",
        "  text.write(isoX + '\\n' + isoY + '\\n' + isoZ + '\\n')"
      ],
      "execution_count": null,
      "outputs": []
    },
    {
      "cell_type": "code",
      "metadata": {
        "id": "chCLsJiLX29D"
      },
      "source": [
        "def CreateGantry(beam_info,beam_num,text):\n",
        "  '''\n",
        "  Determines the position of the gantry for a given beam angle\n",
        "  '''\n",
        "  #Create a name for this gantry position\n",
        "  name = \"gantry_\" + str(beam_num)\n",
        "\n",
        "  #Read the gantry angle from DICOM file\n",
        "  g_ang = int(beam_info.IonControlPointSequence[0].GantryAngle)\n",
        "  rot = str(-1*g_ang)\n",
        "\n",
        "  #Create the lines for Topas parameter file\n",
        "  Par = \"s:Ge/\" + name + r'/Parent  = \"World\"'\n",
        "  Type = \"s:Ge/\" + name + r'/Type  = \"Group\"'\n",
        "  RotX = \"d:Ge/\" + name + \"/RotX    = 0. deg\"\n",
        "  RotY = \"d:Ge/\" + name + \"/RotY    = \" + rot + \" deg\"\n",
        "  RotZ = \"d:Ge/\" + name + \"/RotZ    = 0. deg\"\n",
        "  TransX = \"d:Ge/\" + name + \"/TransX  = 0. m\"\n",
        "  TransY = \"d:Ge/\" + name + \"/TransY  = 0. m\"\n",
        "  TransZ = \"d:Ge/\" + name + \"/TransZ  = 0. m\"\n",
        "\n",
        "  #Write the lines to the Topas file\n",
        "  text.write(\"\\n\" + \"\\n\" + \"\\n\" + Par + \"\\n\" + Type + \"\\n\" + RotX + \"\\n\" + RotY\n",
        "             + \"\\n\" + RotZ+ \"\\n\" + TransX + \"\\n\" + TransY + \"\\n\" + \n",
        "             TransZ + \"\\n\" + \"\\n\")\n",
        "  "
      ],
      "execution_count": null,
      "outputs": []
    },
    {
      "cell_type": "code",
      "metadata": {
        "id": "8F-iitzZXiar"
      },
      "source": [
        "def SimpleSpot(CtrlIndex,sequence,SpotNum,beam,WF,SAD,text,divisor):\n",
        "  '''This function takes the Ion Beam sequence data, the control point number\n",
        "  and the spot number. It then writes the corresponding source information for \n",
        "  that specific spot in the Topas format to a text file'''\n",
        "\n",
        "  if sequence.ScanSpotMetersetWeights[SpotNum] > 0:\n",
        "\n",
        "    #Create the source name\n",
        "    spotName = \"/Beam\" + \"{:02d}\".format(beam) + \"Index\" + \"{:02d}\".format(CtrlIndex) + \"Spot\" + \"{:02d}\".format(SpotNum) + \"/\"\n",
        "\n",
        "    #Initiate the source as a beam\n",
        "    Type = 's:So' + spotName + r'Type = \"Beam\"'\n",
        "    text.write(Type + '\\n')\n",
        "\n",
        "    #Create the Position component\n",
        "    posName = \"BeamPos_Beam\" + \"{:02d}\".format(beam) + \"Index\" + \"{:02d}\".format(CtrlIndex) + \"Spot\" + \"{:02d}\".format(SpotNum)\n",
        "    Component = \"s:So\" + spotName + \"Component = \" + r'\"' + posName + r'\"'\n",
        "    text.write(Component + '\\n')\n",
        "\n",
        "    #Make the beam a proton beam\n",
        "    Particle = 's:So' + spotName + r'BeamParticle = \"proton\"'\n",
        "    text.write(Particle + '\\n')\n",
        "\n",
        "    #Read out the nominal beam energy of the spot\n",
        "    stated_Energy = sequence.NominalBeamEnergy\n",
        "    mean_Energy = real_meanE(stated_Energy)\n",
        "    sd_Energy = energy_sigma(stated_Energy)\n",
        "    spread = 100 * sd_Energy / mean_Energy\n",
        "\n",
        "    Energy = \"d:So\" + spotName + \"BeamEnergy = \" + str(mean_Energy) + \" MeV\"\n",
        "    text.write(Energy + '\\n')\n",
        "\n",
        "    Energy_Spread = \"u:So\" + spotName + \"BeamEnergySpread = \" + str(spread) \n",
        "    text.write(Energy_Spread + '\\n')\n",
        "    \n",
        "\n",
        "##########################################################################\n",
        "    pos_dist = \"s:So\" + spotName + r'BeamPositionDistribution = \"Gaussian\"'\n",
        "    pos_shape = \"s:So\" + spotName + r'BeamPositionCutoffShape = \"Ellipse\"'\n",
        "    text.write(pos_dist + '\\n' + pos_shape + '\\n')\n",
        "\n",
        "    xsd = sigmaX(stated_Energy)\n",
        "    x_w = 4*xsd\n",
        "    SpreadX = \"d:So\" + spotName + \"BeamPositionSpreadX = \" +str(xsd) + \" mm\"\n",
        "    CutX = \"d:So\" + spotName + \"BeamPositionCutoffX = \" + str(x_w) + \" mm\"\n",
        "    text.write(SpreadX + '\\n' + CutX + '\\n')\n",
        "\n",
        "    ysd = sigmaY(stated_Energy)\n",
        "    y_w = 4*ysd\n",
        "    SpreadY = \"d:So\" + spotName + \"BeamPositionSpreadY = \" + str(ysd) + \" mm\"\n",
        "    CutY = \"d:So\" + spotName + \"BeamPositionCutoffY = \" + str(y_w) + \" mm\"\n",
        "    text.write(SpreadY + '\\n' + CutY + '\\n')\n",
        "\n",
        "    Angle = \"s:So\" + spotName + r'BeamAngularDistribution = \"None\"'\n",
        "    text.write(Angle + '\\n')\n",
        "###############################################################################\n",
        "    \n",
        "    #Find the number of histories for the spot\n",
        "    mon_units = sequence.ScanSpotMetersetWeights[SpotNum] * WF\n",
        "    p_perMU = float(PNumCurve(sequence.NominalBeamEnergy))\n",
        "    num_pro = round((p_perMU * mon_units)/divisor)\n",
        "    Hist = \"i:So\" + spotName + \"NumberOfHistoriesInRun = \" + str(num_pro)\n",
        "    text.write(Hist + '\\n')\n",
        "\n",
        "    #Create a line break between source information and the source geometry\n",
        "    text.write('\\n')\n",
        "\n",
        "\n",
        "\n",
        "    #Attach the source to the IEC gantry coordinate group\n",
        "    Parent = \"s:Ge/\" + posName + r'/Parent = \"' + \"gantry_\" + str(beam) + r'\"'\n",
        "    text.write(Parent + '\\n')\n",
        "\n",
        "    #Designate the type as group \n",
        "    Group = \"s:Ge/\" + posName + r'/Type= \"Group\"'\n",
        "    text.write(Group + '\\n')\n",
        "   \n",
        "    #Simulate angular deflection due to magnet. Deviation in y direction due to\n",
        "    #a rotation around x.\n",
        "    thetaX = pi - arctan(sequence.ScanSpotPositionMap[2 * SpotNum +1]/SAD)\n",
        "\n",
        "    #Simulate anguar deflection due to magnet. Deviation in x direction due to\n",
        "    #a rotation around y\n",
        "    thetaY = -1 * arctan(sequence.ScanSpotPositionMap[2 * SpotNum]/SAD)\n",
        "\n",
        "    #Add rotations to Topas file\n",
        "    RotX = \"d:Ge/\" + posName + \"/RotX = \" + str(thetaX) + \" rad\"\n",
        "    RotY = \"d:Ge/\" + posName + \"/RotY = \" + str(thetaY) + \" rad\"\n",
        "    text.write(RotX + '\\n' + RotY + '\\n')\n",
        "\n",
        "    #Want particles to be produced at a point above the isocentre: (0,0,SAD).\n",
        "    trX = 0\n",
        "    trY = 0\n",
        "    trZ = SAD\n",
        "\n",
        "    #Combine results for position of Topas source\n",
        "    TransX = \"d:Ge/\" + posName + \"/TransX = \" + str(trX) + \" mm\"\n",
        "    TransY = \"d:Ge/\" + posName + \"/TransY = \" + str(trY) + \" mm\"\n",
        "    TransZ = \"d:Ge/\" + posName + \"/TransZ = \" + str(trZ) + \" mm\"\n",
        "    text.write(TransX + '\\n'+TransY + '\\n'+TransZ + '\\n')\n",
        "\n",
        "\n",
        "    #Provide a larger break between different sources\n",
        "    text.write('\\n \\n \\n')"
      ],
      "execution_count": null,
      "outputs": []
    },
    {
      "cell_type": "code",
      "metadata": {
        "id": "yBzkQAzLfH9B"
      },
      "source": [
        "def WriteTopas(fileName, plan, divisor):\n",
        "  \"\"\"Takes in a Dicom planning file (plan) and writes Topas geometry and source \n",
        "  parameters to a file called fileName.txt  \"\"\"\n",
        "\n",
        "  #Open the text file\n",
        "  text = open(fileName, \"wt\")\n",
        "\n",
        "  #Assume only one fraction group is used\n",
        "  FG_Data = plan.FractionGroupSequence[0]\n",
        "\n",
        "  #Find the isocentre and record the parameters\n",
        "  iso = plan.IonBeamSequence[0].IonControlPointSequence[0].IsocenterPosition\n",
        "  WriteIso(iso,text)\n",
        "\n",
        "  tot = 0\n",
        "\n",
        "\n",
        "  #Iterate over each beam. For total use FG_Data.NumberOfBeams\n",
        "  for beam in range(0,1):\n",
        "\n",
        "    #Isolate plan information for the desired beam\n",
        "    IonBeam = plan.IonBeamSequence[beam]\n",
        "\n",
        "    #Write Topas parameters for gantry geometry\n",
        "    gan_name = CreateGantry(IonBeam,beam,text)\n",
        "\n",
        "    #Determine the weighting factor(WF) of this beam\n",
        "    BeamMeterset = FG_Data.ReferencedBeamSequence[beam].BeamMeterset\n",
        "    FCMetersetWeight = IonBeam.FinalCumulativeMetersetWeight\n",
        "    WF = BeamMeterset / FCMetersetWeight\n",
        "\n",
        "    #Read the number of Control points from the Dicom\n",
        "    CPointRange = int(IonBeam.NumberOfControlPoints)\n",
        "\n",
        "\n",
        "\n",
        "    #Iterate over all control points\n",
        "    for CtrlIndex in range(CPointRange):\n",
        "      \n",
        "      #Specify data for this control point\n",
        "      sequence = IonBeam.IonControlPointSequence[CtrlIndex]\n",
        "\n",
        "      #Find the number of spots for this control point\n",
        "      SpotRange = int(sequence.NumberOfScanSpotPositions)\n",
        "\n",
        "\n",
        "\n",
        "      #Iterate over all of the spots in the current control point\n",
        "      for SpotNum in range(SpotRange):\n",
        "\n",
        "        #Run the function to write down the spot source data\n",
        "        SimpleSpot(CtrlIndex,sequence,SpotNum,beam,WF,2280,text,divisor)\n",
        "\n",
        "        mon_units = sequence.ScanSpotMetersetWeights[SpotNum]*WF\n",
        "        p_perMU = float(PNumCurve(sequence.NominalBeamEnergy))\n",
        "        num_pro = round(p_perMU * mon_units/divisor)\n",
        "        tot = tot + num_pro\n",
        "\n",
        "\n",
        "\n",
        "\n",
        "  #Close the file\n",
        "  text.close()\n",
        "\n",
        "  return tot"
      ],
      "execution_count": null,
      "outputs": []
    },
    {
      "cell_type": "code",
      "metadata": {
        "id": "jbDmTkAtBe46"
      },
      "source": [
        "#Read the plan dicom file\n",
        "rn = pydicom.dcmread(\"/content/RN.1.2.246.352.71.5.71129641657.2052905.20210520131306.dcm\")"
      ],
      "execution_count": null,
      "outputs": []
    },
    {
      "cell_type": "code",
      "metadata": {
        "id": "9hEjMkLpnChI",
        "colab": {
          "base_uri": "https://localhost:8080/"
        },
        "outputId": "270e3975-40c9-4bbe-fbaf-619511648afc"
      },
      "source": [
        "#Write the Topas parameter files\n",
        "WriteTopas(\"RedoCyl.txt\",rn,1000)"
      ],
      "execution_count": null,
      "outputs": [
        {
          "output_type": "execute_result",
          "data": {
            "text/plain": [
              "21656731"
            ]
          },
          "metadata": {
            "tags": []
          },
          "execution_count": 14
        }
      ]
    }
  ]
}