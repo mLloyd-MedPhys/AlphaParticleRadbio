{
  "nbformat": 4,
  "nbformat_minor": 0,
  "metadata": {
    "colab": {
      "name": "TCP",
      "provenance": [],
      "collapsed_sections": [],
      "authorship_tag": "ABX9TyMoZcGuR3Uq1P6UYb6DOtkA"
    },
    "kernelspec": {
      "name": "python3",
      "display_name": "Python 3"
    },
    "language_info": {
      "name": "python"
    }
  },
  "cells": [
    {
      "cell_type": "markdown",
      "metadata": {
        "id": "JmefOpfXYqzx"
      },
      "source": [
        "This notebook reads a DVH for a CTV and returns the TCP."
      ]
    },
    {
      "cell_type": "code",
      "metadata": {
        "id": "nidxC7zpsZy7"
      },
      "source": [
        "#Import relevant libraries\n",
        "import csv\n",
        "import matplotlib.pyplot as plt\n",
        "import numpy as np\n",
        "from scipy.integrate import quad"
      ],
      "execution_count": null,
      "outputs": []
    },
    {
      "cell_type": "code",
      "metadata": {
        "id": "FtVLijK8KodO"
      },
      "source": [
        "#Read the Cummulative DVH and convert it into a differential DVH\n",
        "\n",
        "#Define lists for dose values and their corresponding volume\n",
        "doses = []\n",
        "vol = []\n",
        "\n",
        "#Read the CSV file\n",
        "with open('/content/CTV70_LET.csv', newline='') as csvfile:\n",
        "  reader = csv.DictReader(csvfile)\n",
        "\n",
        "  #Add relevant data to the lists\n",
        "  for row in reader:\n",
        "    doses.append(float(row['Dose']))\n",
        "    vol.append(float(row['Percentage']))\n",
        "\n",
        "#Etablish lists for the differential DVH parameters\n",
        "diffVol = []\n",
        "diffDos = []\n",
        "\n",
        "#Determine the differential parameters\n",
        "for i in range(1,len(vol)):\n",
        "  diffDos.append(doses[i-1]+(doses[i]-doses[i-1])/2)\n",
        "  diffVol.append(round(((vol[i-1]-vol[i])/100) * 104.330/(0.3*0.1953125*0.1953125)))"
      ],
      "execution_count": null,
      "outputs": []
    },
    {
      "cell_type": "code",
      "metadata": {
        "id": "kLFDcSU65DP9"
      },
      "source": [
        "def SF(dose,alph,ab):\n",
        "  '''For a given dose per fraction, alpha value and alpha/beta ratio, this \n",
        "  funtion returns the survivng fraction of a 35 fraction treatment'''\n",
        "  \n",
        "  return np.exp(-alph*dose*35*(1+dose/ab))"
      ],
      "execution_count": null,
      "outputs": []
    },
    {
      "cell_type": "code",
      "metadata": {
        "id": "Ol5t2Fhf8ZeM"
      },
      "source": [
        "def TCP(dos,vol,size,alph,ab):\n",
        "  '''This function determines the TCP based on differential DVH data\n",
        "  '''\n",
        "\n",
        "  #Define voxel parameters\n",
        "  density = 3*10**7 #Cell density\n",
        "  vox_vol = 0.3*0.1953125*0.1953125\n",
        "  N0 = density*vox_vol\n",
        "  ctv_size = 285.998\n",
        "\n",
        "  #Initite the TCP\n",
        "  TCP = 1\n",
        "\n",
        "  #Iterate for each voxel data point and multiply the voxel TCP by the overall TCP\n",
        "  for k in range(len(dos)):\n",
        "    for l in range(vol[k]):\n",
        "      TCP *= (np.exp(-N0*SF(dos[k],alph,ab)))**(vox_vol/ctv_size)\n",
        "\n",
        "  #Return the TCP for the whole tumour\n",
        "  return TCP"
      ],
      "execution_count": null,
      "outputs": []
    },
    {
      "cell_type": "code",
      "metadata": {
        "colab": {
          "base_uri": "https://localhost:8080/"
        },
        "id": "4aP9v5VFLSeF",
        "outputId": "5c0ac700-1ed3-4d37-ebe0-d6c6dffaf61d"
      },
      "source": [
        "TCP(diffDos,diffVol,104.330,0.24,10.6)"
      ],
      "execution_count": null,
      "outputs": [
        {
          "output_type": "execute_result",
          "data": {
            "text/plain": [
              "0.9954034892354034"
            ]
          },
          "metadata": {
            "tags": []
          },
          "execution_count": 7
        }
      ]
    }
  ]
}